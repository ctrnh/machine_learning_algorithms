{
 "cells": [
  {
   "cell_type": "markdown",
   "metadata": {},
   "source": [
    "# Imports"
   ]
  },
  {
   "cell_type": "code",
   "execution_count": 2,
   "metadata": {},
   "outputs": [],
   "source": [
    "import numpy as np\n",
    "import matplotlib.pyplot as plt\n"
   ]
  },
  {
   "cell_type": "code",
   "execution_count": 3,
   "metadata": {},
   "outputs": [],
   "source": [
    "from sklearn.datasets import load_iris\n",
    "from sklearn.model_selection import train_test_split"
   ]
  },
  {
   "cell_type": "code",
   "execution_count": 10,
   "metadata": {},
   "outputs": [],
   "source": [
    "from metrics import *"
   ]
  },
  {
   "cell_type": "code",
   "execution_count": 18,
   "metadata": {},
   "outputs": [],
   "source": [
    "X, y = load_iris(return_X_y=True)\n",
    "X = X[y<=1]\n",
    "y = y[y<=1]\n",
    "y[y==0] = -1\n",
    "X_train, X_test, y_train, y_test = train_test_split(\n",
    "    X, y, test_size=0.33, shuffle=True)\n",
    "    \n",
    "    "
   ]
  },
  {
   "cell_type": "code",
   "execution_count": 5,
   "metadata": {},
   "outputs": [],
   "source": [
    "def plot_f1_wrt_f2(X, f1, f2, markercolor='r'):\n",
    "    plt.plot(X[:,f2], X[:, f1], markercolor)\n"
   ]
  },
  {
   "cell_type": "code",
   "execution_count": 25,
   "metadata": {},
   "outputs": [
    {
     "data": {
      "image/png": "[encoded data removed]",
      "text/plain": [
       "<Figure size 432x288 with 1 Axes>"
      ]
     },
     "metadata": {
      "needs_background": "light"
     },
     "output_type": "display_data"
    }
   ],
   "source": [
    "plot_f1_wrt_f2(X[y==1], 0, 1, markercolor='*r')\n",
    "plot_f1_wrt_f2(X[y==-1], 0, 1, markercolor='*b')"
   ]
  },
  {
   "cell_type": "code",
   "execution_count": 7,
   "metadata": {},
   "outputs": [],
   "source": [
    "class SVM:\n",
    "    def __init__(self, d, C):\n",
    "        self.w = np.random.uniform(-10, 10, size=(d,1))\n",
    "        self.b = np.random.uniform(-10, 10, )\n",
    "        self.d = d\n",
    "        self.C = C\n",
    "\n",
    "    def fit(self, X_train, y_train, n_iter=10000, lambda_reg=1, learning_rate=1e-3):\n",
    "        for iteration in range(n_iter):\n",
    "            predictions = self.predict(X_train)\n",
    "            grad_w = (2*lambda_reg/self.C) * self.w\n",
    "            grad_b = 0\n",
    "            for i in range(X_train.shape[0]):\n",
    "                if predictions[i] != y_train[i]:\n",
    "                    grad_w -= (y_train[i] * X_train[i, :]).reshape(-1, 1)\n",
    "                    grad_b -= y_train[i]\n",
    "            self.w = self.w - learning_rate * grad_w\n",
    "            self.b = self.b - learning_rate * grad_b\n",
    "            \n",
    "\n",
    "    def _sign(self, u):\n",
    "        sign_u = u.copy()\n",
    "        sign_u[sign_u > 0] = 1\n",
    "        sign_u[sign_u <= 0] = -1\n",
    "        return sign_u\n",
    "    \n",
    "    def _linear_proj(self, X):\n",
    "        return X.dot(self.w) + self.b  \n",
    "\n",
    "    def predict(self, X):\n",
    "        return self._sign(self._linear_proj(X))"
   ]
  },
  {
   "cell_type": "code",
   "execution_count": 8,
   "metadata": {},
   "outputs": [],
   "source": [
    "svm = SVM(d=X_train.shape[1], C=0.5)\n",
    "svm.fit(X_train, y_train)\n",
    "\n",
    "yhat_train = svm.predict(X_train)"
   ]
  },
  {
   "cell_type": "code",
   "execution_count": 9,
   "metadata": {},
   "outputs": [
    {
     "name": "stdout",
     "output_type": "stream",
     "text": [
      "1.0\n"
     ]
    }
   ],
   "source": [
    "\n",
    "print(np.sum(yhat_train.flatten() == y_train)/len(y_train))"
   ]
  },
  {
   "cell_type": "code",
   "execution_count": 21,
   "metadata": {},
   "outputs": [],
   "source": [
    "yhat_test = svm.predict(X_test).flatten()"
   ]
  },
  {
   "cell_type": "code",
   "execution_count": 22,
   "metadata": {},
   "outputs": [
    {
     "data": {
      "text/plain": [
       "1.0"
      ]
     },
     "execution_count": 22,
     "metadata": {},
     "output_type": "execute_result"
    }
   ],
   "source": [
    "accuracy(yhat_test, y_test)"
   ]
  }
 ],
 "metadata": {
  "kernelspec": {
   "display_name": "Python 3.9.12 ('base')",
   "language": "python",
   "name": "python3"
  },
  "language_info": {
   "codemirror_mode": {
    "name": "ipython",
    "version": 3
   },
   "file_extension": ".py",
   "mimetype": "text/x-python",
   "name": "python",
   "nbconvert_exporter": "python",
   "pygments_lexer": "ipython3",
   "version": "3.9.12"
  },
  "orig_nbformat": 4,
  "vscode": {
   "interpreter": {
    "hash": "df2288654b2a21ce744624914d1926872c87a5f09f35bbaf4bb42f7145e25b6d"
   }
  }
 },
 "nbformat": 4,
 "nbformat_minor": 2
}
