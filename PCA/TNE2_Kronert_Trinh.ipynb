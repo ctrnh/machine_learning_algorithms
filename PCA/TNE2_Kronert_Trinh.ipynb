{
 "cells": [
  {
   "cell_type": "markdown",
   "metadata": {},
   "source": [
    "# TNE 2: Principal Component Analysis"
   ]
  },
  {
   "cell_type": "markdown",
   "metadata": {},
   "source": [
    "The purpose of this tutorial is to use Principal Component Analysis (PCA) \n",
    "for dimension reduction applied to images.\n"
   ]
  },
  {
   "cell_type": "code",
   "execution_count": 1,
   "metadata": {},
   "outputs": [
    {
     "name": "stdout",
     "output_type": "stream",
     "text": [
      "Populating the interactive namespace from numpy and matplotlib\n"
     ]
    }
   ],
   "source": [
    "from pylab import *\n",
    "import numpy as np\n",
    "import matplotlib.pyplot as plt\n",
    "from sklearn.linear_model import LogisticRegression\n",
    "from numpy import linalg as la\n",
    "import warnings\n",
    "warnings.filterwarnings(\"ignore\")\n",
    "%pylab inline\n",
    "pylab.rcParams['figure.figsize'] = (15, 7)\n",
    "from ipywidgets import interact, widgets"
   ]
  },
  {
   "cell_type": "markdown",
   "metadata": {},
   "source": [
    "## 1. Application: handwritten digits recognition 5 & 6\n",
    "We load 2 matrices which contain each a sequence of examples of 16x16 images of handwritten digits which are 5 and 6 here. Each line of the matrix contains 256 pixel values coding for the gray level of a 16x16 image."
   ]
  },
  {
   "cell_type": "code",
   "execution_count": 2,
   "metadata": {},
   "outputs": [],
   "source": [
    "train_5 = np.loadtxt('train_5.txt',delimiter=',')   # 556 samples\n",
    "train_6 = np.loadtxt('train_6.txt',delimiter=',')   # 664 samples"
   ]
  },
  {
   "cell_type": "markdown",
   "metadata": {},
   "source": [
    "#### Examples of images:"
   ]
  },
  {
   "cell_type": "code",
   "execution_count": 3,
   "metadata": {},
   "outputs": [
    {
     "data": {
      "image/png": "[encoded data removed]",
      "text/plain": [
       "<Figure size 432x288 with 10 Axes>"
      ]
     },
     "metadata": {},
     "output_type": "display_data"
    }
   ],
   "source": [
    "for n in range (5):\n",
    "    I = np.reshape(train_5[n,:],(16,16))\n",
    "    plt.subplot(1,10,n+1)\n",
    "    plt.imshow(I,cmap='gray')\n",
    "\n",
    "    \n",
    "for n in range (5):\n",
    "    I = np.reshape(train_6[n,:],(16,16))\n",
    "    plt.subplot(1,10,n+6)\n",
    "    plt.imshow(I,cmap='gray')\n"
   ]
  },
  {
   "cell_type": "markdown",
   "metadata": {},
   "source": [
    "#### Separating the training and test sets\n",
    "\n",
    "We keep in the training set the 145 first images of 5s and the 200 first\n",
    "images of 6s:"
   ]
  },
  {
   "cell_type": "code",
   "execution_count": 4,
   "metadata": {},
   "outputs": [],
   "source": [
    "x_train_brut = np.vstack((train_5[:145,:], train_6[:200,:]))\n",
    "N_train = np.size(x_train_brut,axis=0)\n",
    "class_train = np.ones((345,1))   # label 1 for digit 6\n",
    "class_train[:145] = 0       # label 0 for digit 5\n",
    "\n",
    "x_test_brut = np.vstack((train_5[145:,:], train_6[200:,:]))\n",
    "N_test = np.size(train_5,axis=0)+np.size(train_6,axis=0)-N_train\n",
    "class_test = np.ones((N_test,1))\n",
    "class_test[:(556-145)] = 0\n"
   ]
  },
  {
   "cell_type": "markdown",
   "metadata": {},
   "source": [
    "## 2. Principal Component Analysis\n",
    "\n",
    "The purpose of this part is to observe the respective contributions of\n",
    "each component of a PCA of images of 5. The function `sklearn.decomposition.PCA` of `scikit-learn` is available. In practice, one must first estimate the mean vector and then work with centered data. "
   ]
  },
  {
   "cell_type": "markdown",
   "metadata": {},
   "source": [
    "### Documentation\n",
    "First have a look at\n",
    "http://scikit-learn.org/stable/modules/generated/sklearn.decomposition.PCA.html\n",
    "    "
   ]
  },
  {
   "cell_type": "code",
   "execution_count": 5,
   "metadata": {},
   "outputs": [
    {
     "name": "stdout",
     "output_type": "stream",
     "text": [
      "(345, 256)\n",
      "(256, 256)\n"
     ]
    }
   ],
   "source": [
    "# Principal component analysis\n",
    "moy_train = x_train_brut.mean(axis=0)  # all the data, 5 & 6\n",
    "x_train_centre = x_train_brut-np.tile(moy_train,(N_train,1))\n",
    "print(x_train_centre.shape)\n",
    "# PCA from scikit-learn\n",
    "from sklearn.decomposition import PCA\n",
    "pca = PCA()\n",
    "pca.fit(x_train_centre)  # you may forget centering that is done by sklearn PCA\n",
    "\n",
    "singval = pca.singular_values_   # eigenvalues\n",
    "comp = pca.components_           # principal components\n",
    "proj = pca.transform(x_train_centre)  # computes the projection coefficients\n",
    "print(comp.shape)"
   ]
  },
  {
   "cell_type": "markdown",
   "metadata": {},
   "source": [
    "### Display the averaged images of 5 & 6 respectively"
   ]
  },
  {
   "cell_type": "code",
   "execution_count": 6,
   "metadata": {},
   "outputs": [
    {
     "data": {
      "image/png": "[encoded data removed]",
      "text/plain": [
       "<Figure size 216x360 with 1 Axes>"
      ]
     },
     "metadata": {},
     "output_type": "display_data"
    }
   ],
   "source": [
    "I_moy = np.reshape(moy_train,(16,16))   # averaged image = mean \n",
    "plt.figure(figsize=(3,5))\n",
    "plt.imshow(I_moy,cmap = 'gray')\n",
    "plt.show()"
   ]
  },
  {
   "cell_type": "markdown",
   "metadata": {},
   "source": [
    "### Display an example rebuilt from the 1st component only"
   ]
  },
  {
   "cell_type": "code",
   "execution_count": 7,
   "metadata": {},
   "outputs": [
    {
     "data": {
      "image/png": "[encoded data removed]",
      "text/plain": [
       "<Figure size 216x360 with 1 Axes>"
      ]
     },
     "metadata": {},
     "output_type": "display_data"
    }
   ],
   "source": [
    "n=12   # choice of image no n=12 or any other\n",
    "plt.figure(figsize=(3,5))\n",
    "I = I_moy + proj[n,0]*np.reshape(comp[0,:],(16,16))# adding the 1st PCA component \n",
    "plt.imshow(I,cmap='gray')\n",
    "plt.show()"
   ]
  },
  {
   "cell_type": "markdown",
   "metadata": {},
   "source": [
    "### Exercise 1: PCA & approximation\n",
    "\n",
    "1. Read the documentation of function `PCA` and identify the input and output parameters.\n",
    "2. Implement a progressive reconstruction of an image of digit 5 by adding the successive \n",
    "contribution of principal components.\n",
    "3. Observe graphical results. How many components are necessary to obtain a \n",
    "reconstruction that you may consider as acceptable? nice? very nice?\n",
    "4. Optional question: do the same for 6.\n"
   ]
  },
  {
   "cell_type": "markdown",
   "metadata": {},
   "source": [
    "###### Function tools"
   ]
  },
  {
   "cell_type": "code",
   "execution_count": 8,
   "metadata": {},
   "outputs": [],
   "source": [
    "def projected_images (x_train_brut, N_comp):\n",
    "    \"\"\" \n",
    "    Returns a projected image on the first N_comp with PCA\n",
    "    - x_train_brut : raw training data\n",
    "    - N_comp : number of components of PCA we want to project our image\n",
    "    \n",
    "    \n",
    "    Returns:\n",
    "    - array of size (N_train,16,16) images reconstructed with the first N_comp of pca\n",
    "    \"\"\"\n",
    "    pca = PCA(n_components=N_comp,\n",
    "              copy=True, whiten=False, svd_solver='auto',\n",
    "              tol=0.0, iterated_power='auto',\n",
    "              random_state=None)\n",
    "    \n",
    "    N_train = x_train_brut.shape[0]\n",
    "    moy_train = x_train_brut.mean(axis=0)\n",
    "    x_train_centre = x_train_brut-moy_train\n",
    "    \n",
    "    pca.fit(x_train_centre)\n",
    "    \n",
    "    first_N_comp = pca.components_     # principal components\n",
    "    first_N_coeff = pca.transform(x_train_centre)  # computes the projection coefficients\n",
    "    \n",
    "    images = (first_N_coeff.dot(first_N_comp)+moy_train).reshape((N_train,16,16))\n",
    "    \n",
    "    return images\n",
    "\n",
    "def one_projection(num, nb_comp, comp=comp, proj=proj):\n",
    "    \"\"\"\n",
    "    Returns a projected image on the first N_comp with PCA, as the componants and coefficients\n",
    "    are already been computed\n",
    "        - num : the number of the image in the dataset\n",
    "        - nb_comp : number of PCA componant we want to project on\n",
    "        - comp : an array of all PCA componants, computed in a previous step\n",
    "        - proj : coefficient of all projected images in the principal componants\n",
    "    \n",
    "    Returns :\n",
    "        - array : represent the projected image\"\"\"\n",
    "    return  I_moy + (proj[num,:nb_comp+1].dot(comp[:nb_comp+1,:])).reshape((16,16))\n"
   ]
  },
  {
   "cell_type": "markdown",
   "metadata": {},
   "source": [
    "###### Reconstructed images"
   ]
  },
  {
   "cell_type": "code",
   "execution_count": 9,
   "metadata": {},
   "outputs": [
    {
     "data": {
      "application/vnd.jupyter.widget-view+json": {
       "model_id": "8620691e33b0430badadfb3d5c94a6b3",
       "version_major": 2,
       "version_minor": 0
      },
      "text/plain": [
       "interactive(children=(IntSlider(value=1, description='nb_comp', max=250), IntSlider(value=12, description='num…"
      ]
     },
     "metadata": {},
     "output_type": "display_data"
    }
   ],
   "source": [
    "# We use ipywidget interact objet to explore the differents images, with differents componants\n",
    "choiceNbComp = widgets.IntSlider(value=1,min=0,max=250,step=1,continous_update=False)\n",
    "choiceNum    = widgets.IntSlider(value=12,min=0,max=N_train,step=1)\n",
    "\n",
    "@interact(nb_comp = choiceNbComp, num = choiceNum)\n",
    "def reconstruct(nb_comp, num):\n",
    "    plt.subplot(121)\n",
    "    plt.imshow(x_train_brut[num].reshape((16,16)),cmap='gray')\n",
    "    plt.title(\"Image Originale\")\n",
    "    plt.subplot(122)\n",
    "    # Compute the image projection\n",
    "    plt.title(f\"Image Projetée({nb_comp})\")\n",
    "    I = one_projection(num, nb_comp)\n",
    "    return plt.imshow(I,cmap='gray')"
   ]
  },
  {
   "cell_type": "code",
   "execution_count": 10,
   "metadata": {},
   "outputs": [
    {
     "data": {
      "text/plain": [
       "Text(0.5,1,'original')"
      ]
     },
     "execution_count": 10,
     "metadata": {},
     "output_type": "execute_result"
    },
    {
     "data": {
      "image/png": "[encoded data removed]",
      "text/plain": [
       "<Figure size 432x288 with 11 Axes>"
      ]
     },
     "metadata": {},
     "output_type": "display_data"
    }
   ],
   "source": [
    "# Digits 5\n",
    "index_ex=1\n",
    "nb_display = 10\n",
    "interval_comp = np.floor(x_train_brut.shape[1]/nb_display)\n",
    "\n",
    "for n in range(nb_display):\n",
    "    plt.subplot(1,nb_display+1,n+2)\n",
    "    N_comp = (n*interval_comp+1)\n",
    "    plt.imshow(projected_images(x_train_brut,int(N_comp))[index_ex,:,:],cmap='gray')\n",
    "    plt.title(int(N_comp))\n",
    "\n",
    "plt.subplot(1,nb_display+1,1)    \n",
    "plt.imshow(x_train_brut[index_ex].reshape((16,16)),cmap=\"gray\")\n",
    "plt.title(\"original\")\n",
    "  "
   ]
  },
  {
   "cell_type": "code",
   "execution_count": 11,
   "metadata": {},
   "outputs": [
    {
     "data": {
      "text/plain": [
       "Text(0.5,1,'original')"
      ]
     },
     "execution_count": 11,
     "metadata": {},
     "output_type": "execute_result"
    },
    {
     "data": {
      "image/png": "[encoded data removed]",
      "text/plain": [
       "<Figure size 432x288 with 11 Axes>"
      ]
     },
     "metadata": {},
     "output_type": "display_data"
    }
   ],
   "source": [
    "# Digits 6\n",
    "index_ex=210\n",
    "nb_display = 10\n",
    "interval_comp = np.floor(x_train_brut.shape[1]/nb_display)\n",
    "\n",
    "for n in range(nb_display):\n",
    "    plt.subplot(1,nb_display+1,n+2)\n",
    "    N_comp = (n*interval_comp+1)\n",
    "    plt.imshow(projected_images(x_train_brut,int(N_comp))[index_ex,:,:],cmap='gray')\n",
    "    plt.title(int(N_comp))\n",
    "\n",
    "plt.subplot(1,nb_display+1,1)    \n",
    "plt.imshow(x_train_brut[index_ex].reshape((16,16)),cmap=\"gray\")\n",
    "plt.title(\"original\")\n",
    "  "
   ]
  },
  {
   "cell_type": "markdown",
   "metadata": {},
   "source": [
    "(Looking at 5 digits to determine the number of components needed is more relevant because the mean image looks more like a 6 since there are more 6 in the training set.) We can consider the picture : \n",
    "- acceptable when there are approximately more than 50 components\n",
    "- nice : >100\n",
    "- very nice: >150\n",
    "<br> PCA reduces dimensionality very efficiently!"
   ]
  },
  {
   "cell_type": "markdown",
   "metadata": {},
   "source": [
    "### Exercise 2: PCA & classification\n",
    "1. Use `proj[0:2,:]` as the coordinates of a point representing each sample\n",
    "of the training set in a plane. Display the cloud of points associated to\n",
    "digits 5 and 6 by using 2 different colors.\n",
    "2. Comment on the repartition of points in the plane. \n",
    "3. Do you see how this PCA step makes possible the use of a much simpler classification? \n",
    "What would you propose as an alternative to logistic regression of TP3 then?\n"
   ]
  },
  {
   "cell_type": "code",
   "execution_count": 12,
   "metadata": {},
   "outputs": [
    {
     "name": "stdout",
     "output_type": "stream",
     "text": [
      "(345, 256)\n"
     ]
    },
    {
     "data": {
      "text/plain": [
       "<matplotlib.legend.Legend at 0x7f40317c5240>"
      ]
     },
     "execution_count": 12,
     "metadata": {},
     "output_type": "execute_result"
    },
    {
     "data": {
      "image/png": "[encoded data removed]",
      "text/plain": [
       "<Figure size 432x288 with 1 Axes>"
      ]
     },
     "metadata": {},
     "output_type": "display_data"
    }
   ],
   "source": [
    "# Exercise 2\n",
    "print(proj.shape)\n",
    "plt.plot(proj[:145,0],proj[:145,1],\"r*\",label=\"digit 5\")\n",
    "plt.plot(proj[145:,0],proj[145:,1],\"b*\",label = \"digit 6\")\n",
    "plt.xlabel(\"Coefficients of projection, 1st component PCA\")\n",
    "plt.ylabel(\"Coefficients of projection, 2nd component PCA\")\n",
    "plt.legend()"
   ]
  },
  {
   "cell_type": "markdown",
   "metadata": {},
   "source": [
    "By only taking the first 2 components, we can already classify digits 5 and 6 quite well. Therefore, instead of using logistic regression on all features, we could only keep the first two components as our traininig data."
   ]
  },
  {
   "cell_type": "code",
   "execution_count": 13,
   "metadata": {},
   "outputs": [
    {
     "name": "stdout",
     "output_type": "stream",
     "text": [
      "Score train set : 0.9594202898550724\n",
      "Score test set : 0.832\n"
     ]
    },
    {
     "data": {
      "image/png": "[encoded data removed]",
      "text/plain": [
       "<Figure size 432x288 with 1 Axes>"
      ]
     },
     "metadata": {},
     "output_type": "display_data"
    }
   ],
   "source": [
    "## We only keep the first 2 components of PCA of the training set\n",
    "x_train_pca = proj[:,:2]\n",
    "\n",
    "## We only keep the first 2 components of PCA of the test set\n",
    "x_test_pca = np.dot(comp,x_test_brut.T) # compute the PCA components of test set\n",
    "x_test_pca = (x_test_pca[:2,:]).T # keep the first 2 components\n",
    "\n",
    "## plot points test set (first 2 components)\n",
    "plt.plot(x_test_pca[:(556-145),0],x_test_pca[:(556-145),1], 'r*')\n",
    "plt.plot(x_test_pca[(556-145):,0],x_test_pca[(556-145):,1], 'b*')\n",
    "plt.title (\"Test set, first two components PCA\")\n",
    "\n",
    "## Logistic regression with only the first 2 components\n",
    "LR = LogisticRegression()\n",
    "LR.fit(x_train_pca,class_train)\n",
    "\n",
    "print(\"Score train set :\",LR.score(x_train_pca,class_train))\n",
    "print(\"Score test set :\",LR.score(x_test_pca,class_test))"
   ]
  },
  {
   "cell_type": "markdown",
   "metadata": {},
   "source": [
    "To improve the model, and choose the best number of PCA componants, we could use cross validation"
   ]
  },
  {
   "cell_type": "code",
   "execution_count": 14,
   "metadata": {},
   "outputs": [
    {
     "data": {
      "image/png": "[encoded data removed]",
      "text/plain": [
       "<Figure size 432x288 with 1 Axes>"
      ]
     },
     "metadata": {},
     "output_type": "display_data"
    }
   ],
   "source": [
    "def cross_val(K=5):\n",
    "    # Nombre de fold de la cross validation\n",
    "    # Nombre de données total pour les classes 5 et 6\n",
    "    N_5 = 145\n",
    "    N_6 = 200\n",
    "    # nombre de données des classes 5 et 6 par fold\n",
    "    size_5 = N_5//K\n",
    "    size_6 = N_6//K\n",
    "    # Recueil les erreurs moyennes\n",
    "    moyennes_train = []\n",
    "    moyennes_validation  = []\n",
    "    # on fait varier le nombre de paramètre de la PCA\n",
    "    nb_comp_list = range(2,40)\n",
    "    for nb_comp in nb_comp_list:\n",
    "        # Recueil les erreurs pour un écart type maximal égal à max_std\n",
    "        error_train = []\n",
    "        error_validation = []\n",
    "        for i in range(K):\n",
    "\n",
    "            # Ensemble d'entrainement (on doit récupérer chez les 5 et chez les 6)\n",
    "            # les 145 premiers élément sont des 5 les suivants sont des 6\n",
    "            x_train = np.vstack((x_train_brut[:i*size_5,:], x_train_brut[(i+1)*size_5:N_5,:],\n",
    "                                 x_train_brut[N_5 :N_5 + i*size_6,:], x_train_brut[N_5 + (i+1)*size_6 :,:]))\n",
    "            # Labels\n",
    "            train_labels   = np.ones(N_5 + N_6 - size_5 - size_6)\n",
    "            train_labels[:N_5-size_5] = 0\n",
    "            # Ensemble de validation\n",
    "            x_vald = np.vstack((x_train_brut[i*size_5:(i+1)*size_5,:],\n",
    "                                 x_train_brut[N_5 + i*size_6:N_5 + (i+1)*size_6 ,:]))\n",
    "            # labels associés\n",
    "            vald_labels = np.ones(size_5 + size_6)\n",
    "            vald_labels[:size_5] = 0\n",
    "            \n",
    "            # On effectue la pca\n",
    "            pca = PCA(n_components=nb_comp)\n",
    "            x_train_pca =pca.fit_transform(x_train)\n",
    "            x_vald_pca = pca.transform(x_vald)\n",
    "            \n",
    "            # On effectue la régression logistique\n",
    "            LR = LogisticRegression()\n",
    "            LR.fit(x_train_pca,train_labels)\n",
    "\n",
    "\n",
    "            # On enregistre les données\n",
    "            error_train.append(LR.score(x_train_pca,train_labels))\n",
    "            error_validation.append(LR.score(x_vald_pca,vald_labels))\n",
    "        \n",
    "        # On calcul la moyenne\n",
    "        moyennes_train.append(np.mean(error_train))\n",
    "        moyennes_validation.append(np.mean(error_validation))\n",
    "    # On affiche le résultat\n",
    "    plot(nb_comp_list, moyennes_train, label = \"Train\")\n",
    "    plot(nb_comp_list, moyennes_validation, label = \"Validation\")\n",
    "    legend()\n",
    "cross_val()"
   ]
  },
  {
   "cell_type": "markdown",
   "metadata": {},
   "source": [
    "Acording to the cross validation, the best hyperpameter for the PCA, is n_components = 20\n"
   ]
  },
  {
   "cell_type": "code",
   "execution_count": 15,
   "metadata": {},
   "outputs": [
    {
     "name": "stdout",
     "output_type": "stream",
     "text": [
      "Score train set : 0.9971014492753624\n",
      "Score test set : 0.8571428571428571\n"
     ]
    }
   ],
   "source": [
    "# We compute the Logistic Regression the a 20 PCA's components\n",
    "x_train_pca = proj[:,:20]\n",
    "\n",
    "x_test_pca = pca.transform(x_test_brut)[:,:20]\n",
    "\n",
    "\n",
    "\n",
    "## Logistic regression with only the first 20 components\n",
    "LR = LogisticRegression()\n",
    "LR.fit(x_train_pca,class_train)\n",
    "\n",
    "print(\"Score train set :\",LR.score(x_train_pca,class_train))\n",
    "print(\"Score test set :\",LR.score(x_test_pca,class_test))"
   ]
  },
  {
   "cell_type": "markdown",
   "metadata": {},
   "source": [
    "We know that LDA and QDA work usually well with PCA. So we tried with this algorithm."
   ]
  },
  {
   "cell_type": "code",
   "execution_count": 16,
   "metadata": {},
   "outputs": [],
   "source": [
    "from sklearn.discriminant_analysis import LinearDiscriminantAnalysis, QuadraticDiscriminantAnalysis"
   ]
  },
  {
   "cell_type": "code",
   "execution_count": 17,
   "metadata": {},
   "outputs": [
    {
     "name": "stdout",
     "output_type": "stream",
     "text": [
      "Score train set : 0.9565217391304348\n",
      "Score test set : 0.8228571428571428\n"
     ]
    }
   ],
   "source": [
    "LDA = LinearDiscriminantAnalysis()\n",
    "\n",
    "x_train_pca = proj[:,:2]\n",
    "x_test_pca = pca.transform(x_test_brut)[:,:2]\n",
    "\n",
    "LDA.fit(x_train_pca,class_train)\n",
    "print(\"Score train set :\",LDA.score(x_train_pca,class_train))\n",
    "print(\"Score test set :\",LDA.score(x_test_pca,class_test))"
   ]
  },
  {
   "cell_type": "code",
   "execution_count": 18,
   "metadata": {},
   "outputs": [
    {
     "name": "stdout",
     "output_type": "stream",
     "text": [
      "Score train set : 0.9681159420289855\n",
      "Score test set : 0.8457142857142858\n"
     ]
    }
   ],
   "source": [
    "QDA = QuadraticDiscriminantAnalysis()\n",
    "\n",
    "x_train_pca = proj[:,:2]\n",
    "x_test_pca = pca.transform(x_test_brut)[:,:2]\n",
    "\n",
    "QDA.fit(x_train_pca,class_train)\n",
    "print(\"Score train set :\",QDA.score(x_train_pca,class_train))\n",
    "print(\"Score test set :\",QDA.score(x_test_pca,class_test))"
   ]
  },
  {
   "cell_type": "markdown",
   "metadata": {},
   "source": [
    "We can see that QDA seems to work better than the logistic regression. That make sense, because by not adding quadratic features the Logistic Regression at only linear Boundary."
   ]
  },
  {
   "cell_type": "markdown",
   "metadata": {},
   "source": [
    "# FDA\n"
   ]
  },
  {
   "cell_type": "code",
   "execution_count": 85,
   "metadata": {},
   "outputs": [],
   "source": [
    "x_train_brut = np.vstack((train_5[:145,:], train_6[:200,:]))\n",
    "N_train = np.size(x_train_brut,axis=0)\n",
    "class_train = np.ones((345,1))   # label 1 for digit 6\n",
    "class_train[:145] = 0       # label 0 for digit 5\n",
    "\n",
    "x_test_brut = np.vstack((train_5[145:,:], train_6[200:,:]))\n",
    "N_test = np.size(train_5,axis=0)+np.size(train_6,axis=0)-N_train\n",
    "class_test = np.ones((N_test,1))\n",
    "class_test[:(556-145)] = 0\n"
   ]
  },
  {
   "cell_type": "code",
   "execution_count": 86,
   "metadata": {},
   "outputs": [],
   "source": [
    "## mean vectors for class 1 and 2\n",
    "m0 = np.mean(train_5[:145,:],axis=0)\n",
    "m1 = np.mean(train_6[:200,:],axis=0)\n",
    "\n",
    "centered_train_5 = (train_5[:145,:]-m0)\n",
    "centered_train_6 = (train_6[:200,:]-m1)\n",
    "\n",
    "S_intra = np.dot(centered_train_5.T,centered_train_5) + np.dot(centered_train_6.T,centered_train_6)\n",
    "\n",
    "## weights\n",
    "w = np.dot(np.linalg.pinv(S_intra),m1-m0)\n",
    "\n",
    "projections_train = np.dot(x_train_brut,w.T)"
   ]
  },
  {
   "cell_type": "code",
   "execution_count": 87,
   "metadata": {},
   "outputs": [
    {
     "data": {
      "text/plain": [
       "Text(0.5,1,'FDA train set digits 5 and 6')"
      ]
     },
     "execution_count": 87,
     "metadata": {},
     "output_type": "execute_result"
    },
    {
     "data": {
      "image/png": "[encoded data removed]",
      "text/plain": [
       "<Figure size 432x288 with 1 Axes>"
      ]
     },
     "metadata": {},
     "output_type": "display_data"
    }
   ],
   "source": [
    "plt.plot(projections_train[:145],np.zeros((145)),'r*',label = \"digit 5\")\n",
    "plt.plot(projections_train[145:],np.zeros((200)),'b*', label = \"digit 6\")\n",
    "plt.legend()\n",
    "plt.title(\"FDA train set digits 5 and 6\")"
   ]
  },
  {
   "cell_type": "code",
   "execution_count": 88,
   "metadata": {},
   "outputs": [
    {
     "data": {
      "text/plain": [
       "Text(0.5,1,'FDA test set digits 5 and 6')"
      ]
     },
     "execution_count": 88,
     "metadata": {},
     "output_type": "execute_result"
    },
    {
     "data": {
      "image/png": "[encoded data removed]",
      "text/plain": [
       "<Figure size 432x288 with 1 Axes>"
      ]
     },
     "metadata": {},
     "output_type": "display_data"
    }
   ],
   "source": [
    "projections_test = np.dot(x_test_brut,w.T)\n",
    "\n",
    "plt.plot(projections_test[:(556-145)],np.zeros((556-145)),'r*',label = \"digit 5\")\n",
    "plt.plot(projections_test[(556-145):],np.zeros((464)),'b*', label = \"digit 6\")\n",
    "plt.legend()\n",
    "plt.title(\"FDA test set digits 5 and 6\")"
   ]
  },
  {
   "cell_type": "markdown",
   "metadata": {},
   "source": [
    "### The data is well separated in the training set but not in the test set.. We can try with more points in the training set:"
   ]
  },
  {
   "cell_type": "code",
   "execution_count": 89,
   "metadata": {},
   "outputs": [
    {
     "data": {
      "text/plain": [
       "Text(0.5,1,'FDA train set digits 5 and 6')"
      ]
     },
     "execution_count": 89,
     "metadata": {},
     "output_type": "execute_result"
    },
    {
     "data": {
      "image/png": "[encoded data removed]",
      "text/plain": [
       "<Figure size 432x288 with 1 Axes>"
      ]
     },
     "metadata": {},
     "output_type": "display_data"
    }
   ],
   "source": [
    "## mean vectors for class 1 and 2\n",
    "m0 = np.mean(train_5[:400,:],axis=0)\n",
    "m1 = np.mean(train_6[:400,:],axis=0)\n",
    "\n",
    "centered_train_5 = (train_5[:400,:]-m0)\n",
    "centered_train_6 = (train_6[:400,:]-m1)\n",
    "\n",
    "S_intra = np.dot(centered_train_5.T,centered_train_5) + np.dot(centered_train_6.T,centered_train_6)\n",
    "\n",
    "## weights\n",
    "w = np.dot(np.linalg.pinv(S_intra),m1-m0)\n",
    "\n",
    "projections_train = np.dot(np.vstack((train_5[:400,:], train_6[:400,:])),w.T)\n",
    "\n",
    "\n",
    "plt.plot(projections_train[:400],np.zeros((400)),'r*',label = \"digit 5\")\n",
    "plt.plot(projections_train[400:],np.zeros((400)),'b*', label = \"digit 6\")\n",
    "plt.legend()\n",
    "plt.title(\"FDA train set digits 5 and 6\")"
   ]
  },
  {
   "cell_type": "code",
   "execution_count": 95,
   "metadata": {},
   "outputs": [
    {
     "data": {
      "text/plain": [
       "Text(0.5,1,'FDA test set digits 5 and 6')"
      ]
     },
     "execution_count": 95,
     "metadata": {},
     "output_type": "execute_result"
    },
    {
     "data": {
      "image/png": "[encoded data removed]",
      "text/plain": [
       "<Figure size 432x288 with 1 Axes>"
      ]
     },
     "metadata": {},
     "output_type": "display_data"
    }
   ],
   "source": [
    "x_test_brut = np.vstack((train_5[400:,:], train_6[400:,:]))\n",
    "\n",
    "projections_test = np.dot(x_test_brut,w.T)\n",
    "\n",
    "\n",
    "plt.plot(projections_test[:(556-400)],np.zeros((556-400)),'r*',label = \"digit 5\")\n",
    "plt.plot(projections_test[(556-400):],np.zeros((264)),'bx', label = \"digit 6\")\n",
    "plt.legend()\n",
    "plt.title(\"FDA test set digits 5 and 6\")"
   ]
  },
  {
   "cell_type": "markdown",
   "metadata": {},
   "source": [
    "The data are better separated for the test set this time, but they are still "
   ]
  }
 ],
 "metadata": {
  "kernelspec": {
   "display_name": "Python 3",
   "language": "python",
   "name": "python3"
  },
  "language_info": {
   "codemirror_mode": {
    "name": "ipython",
    "version": 3
   },
   "file_extension": ".py",
   "mimetype": "text/x-python",
   "name": "python",
   "nbconvert_exporter": "python",
   "pygments_lexer": "ipython3",
   "version": "3.7.3"
  },
  "toc": {
   "base_numbering": 1,
   "nav_menu": {},
   "number_sections": true,
   "sideBar": true,
   "skip_h1_title": false,
   "title_cell": "Table of Contents",
   "title_sidebar": "Contents",
   "toc_cell": false,
   "toc_position": {},
   "toc_section_display": true,
   "toc_window_display": false
  }
 },
 "nbformat": 4,
 "nbformat_minor": 2
}
