{
 "cells": [
  {
   "cell_type": "code",
   "execution_count": 20,
   "metadata": {},
   "outputs": [],
   "source": [
    "import numpy as np\n",
    "import matplotlib.pyplot as plt"
   ]
  },
  {
   "cell_type": "code",
   "execution_count": null,
   "metadata": {},
   "outputs": [],
   "source": []
  },
  {
   "cell_type": "markdown",
   "metadata": {},
   "source": [
    "# PCA on artificial 2D Gaussian dataset"
   ]
  },
  {
   "cell_type": "code",
   "execution_count": 258,
   "metadata": {},
   "outputs": [],
   "source": [
    "d = 2\n",
    "eig_colors = [\"g\", \"k\"]\n",
    "eig_scale = 3\n",
    "true_mean = np.ones((2,1))\n",
    "a = 2\n",
    "b = 1.8\n",
    "\n",
    "true_covariance_matrix = [[a, b],\n",
    "                     [b, a]]\n"
   ]
  },
  {
   "cell_type": "code",
   "execution_count": 264,
   "metadata": {},
   "outputs": [
    {
     "data": {
      "text/plain": [
       "[[2, 1.8], [1.8, 2]]"
      ]
     },
     "execution_count": 264,
     "metadata": {},
     "output_type": "execute_result"
    }
   ],
   "source": [
    "true_covariance_matrix"
   ]
  },
  {
   "cell_type": "code",
   "execution_count": 287,
   "metadata": {},
   "outputs": [
    {
     "name": "stdout",
     "output_type": "stream",
     "text": [
      "[[0.98400469]\n",
      " [1.01373412]] [[1.]\n",
      " [1.]]\n",
      "[[2.05100479 1.88065565]\n",
      " [1.88065565 2.08871286]] [[2, 1.8], [1.8, 2]]\n"
     ]
    }
   ],
   "source": [
    "# Sample artificial data points\n",
    "N_samples = 500\n",
    "X = np.random.multivariate_normal(mean=true_mean.flatten(),cov=true_covariance_matrix, size=(N_samples,))\n",
    "\n",
    "# Compute data covariance matrix from data points\n",
    "mean = X.mean(axis=0)\n",
    "covariance_matrix = (1/N_samples)*(X-mean).T.dot(X-mean)\n",
    "mean = mean.reshape(2,1)\n",
    "print(mean, true_mean)\n",
    "print(covariance_matrix, true_covariance_matrix)"
   ]
  },
  {
   "cell_type": "code",
   "execution_count": 289,
   "metadata": {},
   "outputs": [
    {
     "data": {
      "image/png": "[encoded data removed]",
      "text/plain": [
       "<Figure size 432x288 with 1 Axes>"
      ]
     },
     "metadata": {
      "needs_background": "light"
     },
     "output_type": "display_data"
    }
   ],
   "source": [
    "# Plot data points\n",
    "plt.plot(X[:,0], X[:,1],'x', alpha=0.3, label=\"Data points\")\n",
    "\n",
    "# Plot eigenvectors\n",
    "eigval, eigvec = np.linalg.eig(covariance_matrix)\n",
    "for i in range(d):\n",
    "    eig_scale = 1/np.sqrt(1/eigval[i])\n",
    "    plt.arrow(mean[0,0],mean[1,0], eig_scale * eigvec[0,i], eig_scale * eigvec[1,i], color=eig_colors[i], label=f\"Eigval = {round(eigval[i],2)}\", head_width=0.1)\n",
    "      \n",
    "# Plot\n",
    "for x in np.linspace(-6,6,300):\n",
    "    for y in np.linspace(-3,3,300):\n",
    "        x_vec = np.array([x,y]).reshape(2,1)\n",
    "        #mean = mean.reshape(2,1)\n",
    "        #print(x_vec,mean)\n",
    "        if 0.95<= np.dot((x_vec.T-mean.T), np.dot(np.linalg.inv(covariance_matrix),x_vec-mean)) <= 1:\n",
    "            plt.plot(x,y,'.',color='C1', markersize=1)\n",
    "\n",
    "plt.xlim(left=-4,right=4)\n",
    "plt.ylim((-4,4))\n",
    "plt.grid()\n",
    "plt.legend()\n",
    "plt.axis(\"equal\")\n",
    "plt.gca().set_aspect('equal')"
   ]
  },
  {
   "cell_type": "markdown",
   "metadata": {},
   "source": [
    "Let $S$ be the covariance matrix.\n",
    "The goal of PCA is to find the directions which maximize the variance \n",
    "The eigenvector associated to the largest eigenvalue is the largest eigenvector "
   ]
  },
  {
   "cell_type": "code",
   "execution_count": 233,
   "metadata": {},
   "outputs": [
    {
     "data": {
      "text/plain": [
       "array([[ 0.70710678, -0.70710678],\n",
       "       [ 0.70710678,  0.70710678]])"
      ]
     },
     "execution_count": 233,
     "metadata": {},
     "output_type": "execute_result"
    }
   ],
   "source": [
    "eigvec"
   ]
  },
  {
   "cell_type": "code",
   "execution_count": 234,
   "metadata": {},
   "outputs": [
    {
     "data": {
      "text/plain": [
       "0.9799999999999999"
      ]
     },
     "execution_count": 234,
     "metadata": {},
     "output_type": "execute_result"
    }
   ],
   "source": [
    "0.7**2+0.7**2"
   ]
  },
  {
   "cell_type": "code",
   "execution_count": 122,
   "metadata": {},
   "outputs": [
    {
     "data": {
      "text/plain": [
       "[[10, 0], [0, 1]]"
      ]
     },
     "execution_count": 122,
     "metadata": {},
     "output_type": "execute_result"
    }
   ],
   "source": [
    "covariance_matrix"
   ]
  },
  {
   "cell_type": "markdown",
   "metadata": {},
   "source": [
    "# MNIST dataset"
   ]
  },
  {
   "cell_type": "code",
   "execution_count": null,
   "metadata": {},
   "outputs": [],
   "source": []
  },
  {
   "cell_type": "code",
   "execution_count": null,
   "metadata": {},
   "outputs": [],
   "source": []
  },
  {
   "cell_type": "code",
   "execution_count": null,
   "metadata": {},
   "outputs": [],
   "source": []
  },
  {
   "cell_type": "code",
   "execution_count": null,
   "metadata": {},
   "outputs": [],
   "source": []
  }
 ],
 "metadata": {
  "kernelspec": {
   "display_name": "Python 3",
   "language": "python",
   "name": "python3"
  },
  "language_info": {
   "codemirror_mode": {
    "name": "ipython",
    "version": 3
   },
   "file_extension": ".py",
   "mimetype": "text/x-python",
   "name": "python",
   "nbconvert_exporter": "python",
   "pygments_lexer": "ipython3",
   "version": "3.7.3"
  },
  "toc": {
   "base_numbering": 1,
   "nav_menu": {},
   "number_sections": true,
   "sideBar": true,
   "skip_h1_title": false,
   "title_cell": "Table of Contents",
   "title_sidebar": "Contents",
   "toc_cell": false,
   "toc_position": {},
   "toc_section_display": true,
   "toc_window_display": false
  }
 },
 "nbformat": 4,
 "nbformat_minor": 2
}
